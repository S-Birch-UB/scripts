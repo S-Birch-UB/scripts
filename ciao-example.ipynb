{
 "cells": [
  {
   "cell_type": "markdown",
   "id": "70344a4f-6287-4609-bfef-ffceb70b2ad0",
   "metadata": {},
   "source": [
    "# Setup"
   ]
  },
  {
   "cell_type": "code",
   "execution_count": 1,
   "id": "c99a1ce0-2c67-4c35-87ba-f6a1fa98f936",
   "metadata": {},
   "outputs": [
    {
     "name": "stdout",
     "output_type": "stream",
     "text": [
      "Make sure you have started HEASoft and CIAO!\n"
     ]
    }
   ],
   "source": [
    "print(\"Make sure you have started HEASoft and CIAO!\")"
   ]
  },
  {
   "cell_type": "code",
   "execution_count": 2,
   "id": "2ee19a24-9ba0-470b-9788-6968fe57166b",
   "metadata": {},
   "outputs": [
    {
     "name": "stdout",
     "output_type": "stream",
     "text": [
      "2021-12-16 16:42:50 \n",
      "\n",
      "working in directory:\n",
      "/home/cg18394/scripts\n"
     ]
    }
   ],
   "source": [
    "#clear session\n",
    "%reset -f\n",
    "\n",
    "import warnings\n",
    "\n",
    "import datetime\n",
    "currentDT = datetime.datetime.now()\n",
    "print(currentDT.strftime(\"%Y-%m-%d %H:%M:%S\"),\"\\n\")\n",
    "\n",
    "import subprocess\n",
    "\n",
    "import os\n",
    "print(\"working in directory:\")\n",
    "print(os.getcwd())"
   ]
  },
  {
   "cell_type": "markdown",
   "id": "18997ec9-85b2-4d68-8447-50c3eabdf1a7",
   "metadata": {},
   "source": [
    "# Crop image to smaller region and smooth"
   ]
  },
  {
   "cell_type": "code",
   "execution_count": 3,
   "id": "61e142b2-b7f1-4a1e-8488-d0fc4b9b5e14",
   "metadata": {},
   "outputs": [
    {
     "name": "stdout",
     "output_type": "stream",
     "text": [
      "This command assumes you have an image called img.fits in this directory\n"
     ]
    }
   ],
   "source": [
    "print(\"This command assumes you have an image called img.fits in this directory\")"
   ]
  },
  {
   "cell_type": "code",
   "execution_count": 4,
   "id": "65eb9ea7-5d08-4c4a-8ef6-604dd7dc1e98",
   "metadata": {
    "tags": []
   },
   "outputs": [
    {
     "name": "stdout",
     "output_type": "stream",
     "text": [
      "box(8:37:52.13,+1:29:49.99,200\",200\")\n"
     ]
    }
   ],
   "source": [
    "# set ra, dec and R500\n",
    "ra = '8:37:52.13'\n",
    "dec = '+1:29:49.99'\n",
    "r500 = 100 # in arcsec\n",
    "size = 2*r500\n",
    "\n",
    "# make into a region string\n",
    "reg = f'box({ra},{dec},{size}\",{size}\")'\n",
    "print(reg)"
   ]
  },
  {
   "cell_type": "code",
   "execution_count": 5,
   "id": "a96257b7-2efc-4724-af6e-dc6c5ae3cac7",
   "metadata": {},
   "outputs": [
    {
     "name": "stdout",
     "output_type": "stream",
     "text": [
      "ERROR: \n",
      "Failed to open virtual file img.fits[(x,y)=box(8:37:52.13,+1:29:49.99,200\",200\")]\n",
      "# DMCOPY (CIAO 4.13): [DM FITS kernel]: File img.fits does not exist\n",
      "\n"
     ]
    }
   ],
   "source": [
    "# crop image\n",
    "# run command and store output in variable\n",
    "out = subprocess.run(['dmcopy', f'img.fits[(x,y)={reg}]', 'small.fits', 'clobber=yes'], capture_output=True, text=True)\n",
    "# check command ran okay\n",
    "if (out.returncode > 0): print(\"ERROR:\",out.stderr) \n"
   ]
  },
  {
   "cell_type": "code",
   "execution_count": 11,
   "id": "a48e0caa-dca1-403c-bae9-e09b2f05d499",
   "metadata": {},
   "outputs": [],
   "source": [
    "# smooth image\n",
    "# run command and store output in variable\n",
    "smooth = 4 # smooth by 4 pixels (just an example)\n",
    "out = subprocess.run(['fgauss', 'small.fits', 'smooth.fits', f'{smooth}', 'datatype=d', 'clobber=yes'], capture_output=True, text=True)\n",
    "# check command ran okay\n",
    "if (out.returncode > 0): print(\"ERROR:\",out.stderr) \n"
   ]
  },
  {
   "cell_type": "markdown",
   "id": "1449b03a-a101-4964-bd82-8837839108eb",
   "metadata": {},
   "source": [
    "# Find peak"
   ]
  },
  {
   "cell_type": "code",
   "execution_count": 12,
   "id": "40131d01-0774-4926-9d6a-ab69bc8ba301",
   "metadata": {},
   "outputs": [
    {
     "name": "stdout",
     "output_type": "stream",
     "text": [
      "PRIMARY\n",
      "    min:\t0 \t      @:\t( 1712 1593 )\n",
      "    max:\t0.51475955791 \t      @:\t( 1695 1618 )\n",
      "   mean:\t0.048218380773 \n",
      "  sigma:\t0.077968075386 \n",
      "    sum:\t122.95687097 \n",
      "   good:\t2550 \n",
      "   null:\t51 \n",
      "\n"
     ]
    }
   ],
   "source": [
    "# run command and store output in variable\n",
    "out = subprocess.run(['dmstat', 'smooth.fits', 'centroid=no'], capture_output=True, text=True)\n",
    "# check command ran okay\n",
    "if (out.returncode > 0): print(\"ERROR:\",out.stderr) \n",
    "# get the main output from the command\n",
    "out = out.stdout\n",
    "print(out)"
   ]
  },
  {
   "cell_type": "code",
   "execution_count": 13,
   "id": "91be85e1-c8ae-4a47-9d9b-161a8ef9973a",
   "metadata": {},
   "outputs": [
    {
     "name": "stdout",
     "output_type": "stream",
     "text": [
      "['PRIMARY', '    min:\\t0 \\t      @:\\t( 1712 1593 )', '    max:\\t0.51475955791 \\t      @:\\t( 1695 1618 )', '   mean:\\t0.048218380773 ', '  sigma:\\t0.077968075386 ', '    sum:\\t122.95687097 ', '   good:\\t2550 ', '   null:\\t51 ']\n"
     ]
    }
   ],
   "source": [
    "# split variable by lines\n",
    "lines = out.splitlines()\n",
    "print(lines)"
   ]
  },
  {
   "cell_type": "code",
   "execution_count": 14,
   "id": "25ea0c27-7c84-43e8-82a2-bf54ffda7a69",
   "metadata": {},
   "outputs": [
    {
     "name": "stdout",
     "output_type": "stream",
     "text": [
      "['    max:\\t0.51475955791 \\t      @:\\t( 1695 1618 )']\n"
     ]
    }
   ],
   "source": [
    "# get the line with \"max\" in it\n",
    "matches = [x for x in lines if \"max\" in x]\n",
    "print(matches)"
   ]
  },
  {
   "cell_type": "code",
   "execution_count": 15,
   "id": "912a4669-1039-43d3-af61-ed1a4552ac7a",
   "metadata": {},
   "outputs": [
    {
     "name": "stdout",
     "output_type": "stream",
     "text": [
      "['max:', '0.51475955791', '@:', '(', '1695', '1618', ')']\n"
     ]
    }
   ],
   "source": [
    "# split on whitespace\n",
    "words = matches[0].split()\n",
    "print(words)"
   ]
  },
  {
   "cell_type": "code",
   "execution_count": 16,
   "id": "311712a4-3678-41eb-a730-5eaa8110b060",
   "metadata": {},
   "outputs": [
    {
     "name": "stdout",
     "output_type": "stream",
     "text": [
      "Peak is at 1695 1618\n"
     ]
    }
   ],
   "source": [
    "# get the x and y values\n",
    "xpeak = words[4]\n",
    "ypeak = words[5]\n",
    "print(\"Peak is at\",xpeak,ypeak)"
   ]
  },
  {
   "cell_type": "code",
   "execution_count": null,
   "id": "aa5ed45a-8620-4596-9330-3a390a25ac6d",
   "metadata": {},
   "outputs": [],
   "source": []
  }
 ],
 "metadata": {
  "kernelspec": {
   "display_name": "Python 3 (ipykernel)",
   "language": "python",
   "name": "python3"
  },
  "language_info": {
   "codemirror_mode": {
    "name": "ipython",
    "version": 3
   },
   "file_extension": ".py",
   "mimetype": "text/x-python",
   "name": "python",
   "nbconvert_exporter": "python",
   "pygments_lexer": "ipython3",
   "version": "3.9.7"
  }
 },
 "nbformat": 4,
 "nbformat_minor": 5
}
